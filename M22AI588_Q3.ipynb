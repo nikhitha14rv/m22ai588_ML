{
  "nbformat": 4,
  "nbformat_minor": 0,
  "metadata": {
    "colab": {
      "provenance": []
    },
    "kernelspec": {
      "name": "python3",
      "display_name": "Python 3"
    },
    "language_info": {
      "name": "python"
    }
  },
  "cells": [
    {
      "cell_type": "code",
      "execution_count": 102,
      "metadata": {
        "id": "cExrd_w3DEAy"
      },
      "outputs": [],
      "source": [
        "import numpy as np\n",
        "import tensorflow as tf\n",
        "from tensorflow import keras\n",
        "from keras.models import Sequential\n",
        "import pandas as pd\n",
        "from matplotlib import pyplot as plt\n",
        "%matplotlib inline\n",
        "import os\n",
        "import cv2\n",
        "from keras.layers import Dense, Conv2D, MaxPooling2D, Flatten,GlobalAveragePooling2D\n",
        "from PIL import Image\n",
        "from sklearn.preprocessing import LabelEncoder\n",
        "from sklearn.metrics import confusion_matrix, classification_report\n",
        "from tensorflow.keras.applications import VGG16\n",
        "from tensorflow.keras.preprocessing.image import ImageDataGenerator"
      ]
    },
    {
      "cell_type": "code",
      "source": [
        "from google.colab import drive\n",
        "drive.mount('/content/drive')"
      ],
      "metadata": {
        "colab": {
          "base_uri": "https://localhost:8080/"
        },
        "id": "nGzzgSb4Y8KH",
        "outputId": "d250dfa9-d739-41d4-8fc1-29110c02c8bc"
      },
      "execution_count": 103,
      "outputs": [
        {
          "output_type": "stream",
          "name": "stdout",
          "text": [
            "Drive already mounted at /content/drive; to attempt to forcibly remount, call drive.mount(\"/content/drive\", force_remount=True).\n"
          ]
        }
      ]
    },
    {
      "cell_type": "code",
      "source": [
        "# Define the paths to your image and csv folders\n",
        "train_val_dir = \"/content/drive/MyDrive/Colab Notebooks/Machine Learning Assignment/charts/train_val\"\n",
        "test_dir = \"/content/drive/MyDrive/Colab Notebooks/Machine Learning Assignment/charts/test\"\n",
        "train_path_labels = \"/content/drive/MyDrive/Colab Notebooks/Machine Learning Assignment/charts/train_val.csv\"\n",
        "train_val_labels = pd.read_csv(train_path_labels)"
      ],
      "metadata": {
        "id": "l5JMGGSGDPaG"
      },
      "execution_count": 104,
      "outputs": []
    },
    {
      "cell_type": "code",
      "source": [
        "# load training dataset in numpy array\n",
        "images = []\n",
        "labels = []\n",
        "for filename in os.listdir(train_val_dir):\n",
        " if filename.endswith('.png'):\n",
        " # Load the images and resize them to (64, 64) with 3 color channels\n",
        "  image = cv2.imread(os.path.join(train_val_dir, filename))\n",
        "  image = cv2.resize(image, (64, 64))\n",
        "  image = cv2.cvtColor(image, cv2.COLOR_BGR2RGB)\n",
        "\n",
        "# image = Image.open(os.path.join(train_val_dir, filename))\n",
        "  image_array = np.array(image)\n",
        " # Append the array to the list of images\n",
        "  images.append(image_array)\n",
        "  labels.append(filename)\n",
        "\n",
        "# Convert the string labels to numerical labels\n",
        "le = LabelEncoder()\n",
        "labels = le.fit_transform(labels)\n",
        "# Convert the lists to NumPy arrays\n",
        "images = np.array(images)\n",
        "labels = np.array(labels)\n",
        "# Save the arrays in NumPy format\n",
        "np.save('x_train.npy', images)\n",
        "np.save('y_train.npy', labels)\n",
        "x_train = np.load('x_train.npy')\n",
        "y_train = np.load('y_train.npy')"
      ],
      "metadata": {
        "id": "PjcVInuJDZjF"
      },
      "execution_count": 105,
      "outputs": []
    },
    {
      "cell_type": "code",
      "source": [
        "x_train.shape"
      ],
      "metadata": {
        "colab": {
          "base_uri": "https://localhost:8080/"
        },
        "id": "fA10dWWuDpSd",
        "outputId": "6ea869ae-ce5f-4861-a6bd-9c28786653ce"
      },
      "execution_count": 106,
      "outputs": [
        {
          "output_type": "execute_result",
          "data": {
            "text/plain": [
              "(1000, 64, 64, 3)"
            ]
          },
          "metadata": {},
          "execution_count": 106
        }
      ]
    },
    {
      "cell_type": "code",
      "source": [
        "x_train[:5]\n",
        "y_train[:5]"
      ],
      "metadata": {
        "colab": {
          "base_uri": "https://localhost:8080/"
        },
        "id": "aGBVwVxgDrDG",
        "outputId": "35a852f2-b76f-4a45-a2c0-602f9ef31046"
      },
      "execution_count": 107,
      "outputs": [
        {
          "output_type": "execute_result",
          "data": {
            "text/plain": [
              "array([512, 301, 190, 268, 690])"
            ]
          },
          "metadata": {},
          "execution_count": 107
        }
      ]
    },
    {
      "cell_type": "code",
      "source": [
        "# load test dataset in numpy array\n",
        "images = []\n",
        "labels = []\n",
        "for filename in os.listdir(test_dir):\n",
        " if filename.endswith('.png'):\n",
        " # Load the images and resize them to (64, 64) with 3 color channels\n",
        "  image = cv2.imread(os.path.join(test_dir, filename))\n",
        "  image = cv2.resize(image, (64, 64))\n",
        "  image = cv2.cvtColor(image, cv2.COLOR_BGR2RGB)\n",
        "\n",
        "# image = Image.open(os.path.join(test_dir, filename))\n",
        "  image_array = np.array(image)\n",
        " # Append the array to the list of images\n",
        "  images.append(image_array)\n",
        "  labels.append(filename)\n",
        "# Convert the string labels to numerical labels\n",
        "le = LabelEncoder()\n",
        "labels = le.fit_transform(labels)\n"
      ],
      "metadata": {
        "id": "TO1XPqVbDvxe"
      },
      "execution_count": 108,
      "outputs": []
    },
    {
      "cell_type": "code",
      "source": [
        "images = np.array(images)\n",
        "labels = np.array(labels)\n",
        "# Save the arrays in NumPy format\n",
        "np.save('x_test.npy', images)\n",
        "np.save('y_test.npy', labels)\n",
        "x_test = np.load('x_test.npy')\n",
        "y_test = np.load('y_test.npy')"
      ],
      "metadata": {
        "id": "v4hAf6_wDyD4"
      },
      "execution_count": 109,
      "outputs": []
    },
    {
      "cell_type": "code",
      "source": [
        "x_test.shape"
      ],
      "metadata": {
        "colab": {
          "base_uri": "https://localhost:8080/"
        },
        "id": "n4JTqCvjD0af",
        "outputId": "e5106a71-61e5-4164-f43c-4971d56e7f3c"
      },
      "execution_count": 110,
      "outputs": [
        {
          "output_type": "execute_result",
          "data": {
            "text/plain": [
              "(50, 64, 64, 3)"
            ]
          },
          "metadata": {},
          "execution_count": 110
        }
      ]
    },
    {
      "cell_type": "code",
      "source": [
        "# check the images loaded\n",
        "plt.figure(figsize = (12,4))\n",
        "plt.imshow(x_train[10])\n",
        "plt.imshow(x_train[208])\n",
        "plt.imshow(x_train[444])"
      ],
      "metadata": {
        "colab": {
          "base_uri": "https://localhost:8080/",
          "height": 388
        },
        "id": "wRQQ1rn7D242",
        "outputId": "b10505f4-1cde-4900-d955-af5b8c63c8d0"
      },
      "execution_count": 111,
      "outputs": [
        {
          "output_type": "execute_result",
          "data": {
            "text/plain": [
              "<matplotlib.image.AxesImage at 0x7f97f46ce950>"
            ]
          },
          "metadata": {},
          "execution_count": 111
        },
        {
          "output_type": "display_data",
          "data": {
            "text/plain": [
              "<Figure size 1200x400 with 1 Axes>"
            ],
            "image/png": "[encoded data removed]"
          },
          "metadata": {}
        }
      ]
    },
    {
      "cell_type": "code",
      "source": [
        "# define some classes from the images we have observed\n",
        "image_classes = ['line', 'dot_line', 'hbar_categorical', 'vbar_categorical', 'pie']\n",
        "image_classes[0]\n",
        "# map the categories to the labels array i.e y_train\n",
        "label_map = {'line': 0, 'dot_line': 1, 'hbar_categorical': 2, 'vbar_categorical': 3, 'pie': 4}\n",
        "y_train = np.array([label_map[label] for label in train_val_labels['type']])"
      ],
      "metadata": {
        "id": "_X-CyNDUD-Cm"
      },
      "execution_count": 112,
      "outputs": []
    },
    {
      "cell_type": "code",
      "source": [
        "y_train\n",
        "y_train.shape\n",
        "y_test.shape"
      ],
      "metadata": {
        "colab": {
          "base_uri": "https://localhost:8080/"
        },
        "id": "Bq5QcQiKD_94",
        "outputId": "f6b75283-665a-4d36-fc8e-fd78576b5f19"
      },
      "execution_count": 113,
      "outputs": [
        {
          "output_type": "execute_result",
          "data": {
            "text/plain": [
              "(50,)"
            ]
          },
          "metadata": {},
          "execution_count": 113
        }
      ]
    },
    {
      "cell_type": "code",
      "source": [
        "# we need to map the lables from csv to the images somehow\n",
        "# function to test the chart sample\n",
        "def image_sample(x, y, index):\n",
        " plt.figure(figsize = (12,4))\n",
        " plt.imshow(x[index])\n",
        "# image_label = train_val_labels.iloc[index]['type']\n",
        "# plt.xlabel(image_label)\n",
        " plt.xlabel(image_classes[y[index]])"
      ],
      "metadata": {
        "id": "jYuoIhRwECNm"
      },
      "execution_count": 114,
      "outputs": []
    },
    {
      "cell_type": "code",
      "source": [
        "image_sample(x_train,y_train,0)\n",
        "image_sample(x_train,y_train,208)\n",
        "image_sample(x_train,y_train,444)"
      ],
      "metadata": {
        "colab": {
          "base_uri": "https://localhost:8080/",
          "height": 1000
        },
        "id": "3IONo5LfED4_",
        "outputId": "84454b28-3320-4534-8078-5fbd82216229"
      },
      "execution_count": 115,
      "outputs": [
        {
          "output_type": "display_data",
          "data": {
            "text/plain": [
              "<Figure size 1200x400 with 1 Axes>"
            ],
            "image/png": "[encoded data removed]"
          },
          "metadata": {}
        },
        {
          "output_type": "display_data",
          "data": {
            "text/plain": [
              "<Figure size 1200x400 with 1 Axes>"
            ],
            "image/png": "[encoded data removed]"
          },
          "metadata": {}
        },
        {
          "output_type": "display_data",
          "data": {
            "text/plain": [
              "<Figure size 1200x400 with 1 Axes>"
            ],
            "image/png": "[encoded data removed]"
          },
          "metadata": {}
        }
      ]
    },
    {
      "cell_type": "code",
      "source": [
        "# now we have mapped the corresponding labels to the image"
      ],
      "metadata": {
        "id": "o71cDS8XEGVI"
      },
      "execution_count": 116,
      "outputs": []
    },
    {
      "cell_type": "code",
      "source": [
        "# normalize the image\n",
        "# x_train[0]/255\n",
        "x_train=x_train /255\n",
        "x_test=x_train /255"
      ],
      "metadata": {
        "id": "1bS-CK1GEH5g"
      },
      "execution_count": 117,
      "outputs": []
    },
    {
      "cell_type": "code",
      "source": [
        "\n",
        "x_test.shape"
      ],
      "metadata": {
        "colab": {
          "base_uri": "https://localhost:8080/"
        },
        "id": "PjXfZuzkEJXX",
        "outputId": "776f4d69-dacd-4954-bb21-25b898a01a7c"
      },
      "execution_count": 118,
      "outputs": [
        {
          "output_type": "execute_result",
          "data": {
            "text/plain": [
              "(1000, 64, 64, 3)"
            ]
          },
          "metadata": {},
          "execution_count": 118
        }
      ]
    },
    {
      "cell_type": "code",
      "source": [
        "# take the label for train data from csv file\n",
        "y_train_index = train_val_labels['image_index']\n",
        "y_train_type = train_val_labels['type']"
      ],
      "metadata": {
        "id": "lydQPpw3EK7Y"
      },
      "execution_count": 119,
      "outputs": []
    },
    {
      "cell_type": "code",
      "source": [
        "y_train_type[:5]"
      ],
      "metadata": {
        "colab": {
          "base_uri": "https://localhost:8080/"
        },
        "id": "N3ZWh9xNEMkx",
        "outputId": "bb1d2519-5b05-4c91-c3a2-4ccda5a215c9"
      },
      "execution_count": 120,
      "outputs": [
        {
          "output_type": "execute_result",
          "data": {
            "text/plain": [
              "0    vbar_categorical\n",
              "1    vbar_categorical\n",
              "2    vbar_categorical\n",
              "3    vbar_categorical\n",
              "4    vbar_categorical\n",
              "Name: type, dtype: object"
            ]
          },
          "metadata": {},
          "execution_count": 120
        }
      ]
    },
    {
      "cell_type": "code",
      "source": [
        "# writing a simple nn to test first\n",
        "# Define the output architecture\n",
        "output = Sequential([\n",
        " Flatten(input_shape=(64,64,3)),\n",
        " Dense(3000, activation='relu'),\n",
        " Dense(1000, activation='relu'),\n",
        " Dense(5, activation='softmax')\n",
        "])\n",
        "# Compile the output\n",
        "output.compile(optimizer='SGD', loss='sparse_categorical_crossentropy', metrics=['accuracy'])\n",
        "output.fit(x_train,y_train,epochs=10)"
      ],
      "metadata": {
        "colab": {
          "base_uri": "https://localhost:8080/"
        },
        "id": "JX6kBRptEOXf",
        "outputId": "ec573677-8414-4857-cd5e-702b945330bf"
      },
      "execution_count": 121,
      "outputs": [
        {
          "output_type": "stream",
          "name": "stdout",
          "text": [
            "Epoch 1/10\n",
            "32/32 [==============================] - 12s 345ms/step - loss: 3.1025 - accuracy: 0.2350\n",
            "Epoch 2/10\n",
            "32/32 [==============================] - 8s 253ms/step - loss: 1.5395 - accuracy: 0.2960\n",
            "Epoch 3/10\n",
            "32/32 [==============================] - 9s 291ms/step - loss: 1.4625 - accuracy: 0.3470\n",
            "Epoch 4/10\n",
            "32/32 [==============================] - 10s 306ms/step - loss: 1.4759 - accuracy: 0.3850\n",
            "Epoch 5/10\n",
            "32/32 [==============================] - 8s 244ms/step - loss: 1.4373 - accuracy: 0.4050\n",
            "Epoch 6/10\n",
            "32/32 [==============================] - 10s 306ms/step - loss: 1.3644 - accuracy: 0.4670\n",
            "Epoch 7/10\n",
            "32/32 [==============================] - 9s 272ms/step - loss: 1.3652 - accuracy: 0.4590\n",
            "Epoch 8/10\n",
            "32/32 [==============================] - 9s 272ms/step - loss: 1.2782 - accuracy: 0.4900\n",
            "Epoch 9/10\n",
            "32/32 [==============================] - 10s 306ms/step - loss: 1.2566 - accuracy: 0.5060\n",
            "Epoch 10/10\n",
            "32/32 [==============================] - 8s 244ms/step - loss: 1.2363 - accuracy: 0.5030\n"
          ]
        },
        {
          "output_type": "execute_result",
          "data": {
            "text/plain": [
              "<keras.callbacks.History at 0x7f97ef5cc460>"
            ]
          },
          "metadata": {},
          "execution_count": 121
        }
      ]
    },
    {
      "cell_type": "code",
      "source": [
        "# Split the training images and labels into training and validation sets\n",
        "from sklearn.model_selection import train_test_split\n",
        "x_train, x_test, y_train, y_test = train_test_split(x_train, y_train, test_size=0.2, random_state=42)"
      ],
      "metadata": {
        "id": "gmk8Wzq1EQof"
      },
      "execution_count": 123,
      "outputs": []
    },
    {
      "cell_type": "code",
      "source": [
        "output.evaluate(x_test,y_test)\n"
      ],
      "metadata": {
        "colab": {
          "base_uri": "https://localhost:8080/"
        },
        "id": "qs2cY_lRETGv",
        "outputId": "7ab8ed26-9416-4114-cb9b-652388fb8cae"
      },
      "execution_count": 124,
      "outputs": [
        {
          "output_type": "stream",
          "name": "stdout",
          "text": [
            "7/7 [==============================] - 1s 73ms/step - loss: 1.1652 - accuracy: 0.4950\n"
          ]
        },
        {
          "output_type": "execute_result",
          "data": {
            "text/plain": [
              "[1.1651936769485474, 0.4950000047683716]"
            ]
          },
          "metadata": {},
          "execution_count": 124
        }
      ]
    },
    {
      "cell_type": "code",
      "source": [
        "y_pred = output.predict(x_test)\n",
        "y_pred\n",
        "y_pred_classes = [np.argmax(ele) for ele in y_pred]\n",
        "# print(\"classificaton report : \\n\",classification_report(y_test,y_pred_classes))"
      ],
      "metadata": {
        "colab": {
          "base_uri": "https://localhost:8080/"
        },
        "id": "wW-9UmryEU0L",
        "outputId": "b22d4459-1382-42ec-9050-993ee50b33fb"
      },
      "execution_count": 125,
      "outputs": [
        {
          "output_type": "stream",
          "name": "stdout",
          "text": [
            "7/7 [==============================] - 1s 77ms/step\n"
          ]
        }
      ]
    },
    {
      "cell_type": "code",
      "source": [
        "# here we see the accuracy is very low and we need to modify our nn to add more layers for better accuracy"
      ],
      "metadata": {
        "id": "l9TKqsaTEWgn"
      },
      "execution_count": 126,
      "outputs": []
    },
    {
      "cell_type": "code",
      "source": [
        "# Print the shapes of the arrays to verify that they loaded correctly\n",
        "print(\"Train Images Shape:\", x_train.shape)\n",
        "print(\"Train Labels Shape:\", y_train.shape)\n",
        "print(\"Test Images Shape:\", x_test.shape)\n",
        "print(\"Test Labels Shape:\", y_test.shape)"
      ],
      "metadata": {
        "colab": {
          "base_uri": "https://localhost:8080/"
        },
        "id": "uG1FynrkEYC_",
        "outputId": "7f7d84b9-0c60-4d19-94dc-f16a635a7573"
      },
      "execution_count": 127,
      "outputs": [
        {
          "output_type": "stream",
          "name": "stdout",
          "text": [
            "Train Images Shape: (800, 64, 64, 3)\n",
            "Train Labels Shape: (800,)\n",
            "Test Images Shape: (200, 64, 64, 3)\n",
            "Test Labels Shape: (200,)\n"
          ]
        }
      ]
    },
    {
      "cell_type": "code",
      "source": [
        "# modify the output architecture to cmnn\n",
        "cnn_model = Sequential([\n",
        " Conv2D(filters=16 ,kernel_size=(3,3), activation='relu', input_shape=(64,64,3)),\n",
        " MaxPooling2D(pool_size=(2,2)),\n",
        " Conv2D(32, (3,3), activation='relu'),\n",
        " MaxPooling2D(pool_size=(2,2)),\n",
        " Conv2D(64, (3,3), activation='relu'),\n",
        " MaxPooling2D(pool_size=(2,2)),\n",
        " Flatten(),\n",
        " Dense(128, activation='relu'),\n",
        " Dense(5, activation='softmax')\n",
        "])\n",
        "# Compile the output\n",
        "cnn_model.compile(optimizer='adam', loss='sparse_categorical_crossentropy', metrics=['accuracy'])\n",
        "# Train the output\n",
        "history = cnn_model.fit(x_train, y_train, batch_size=1000, epochs=50,validation_data=(x_test, y_test))\n",
        "# Plot the obtained loss\n",
        "plt.plot(history.history['loss'])\n",
        "plt.plot(history.history['val_loss'])\n",
        "plt.title('output Loss')\n",
        "plt.ylabel('Loss')\n",
        "plt.xlabel('Epoch')\n",
        "plt.legend(['Train', 'Validation'], loc='upper right')\n",
        "plt.show()"
      ],
      "metadata": {
        "colab": {
          "base_uri": "https://localhost:8080/",
          "height": 1000
        },
        "id": "DeVOo8AtEacH",
        "outputId": "060cffae-2232-4ce8-dc89-2d2992ae380c"
      },
      "execution_count": 130,
      "outputs": [
        {
          "output_type": "stream",
          "name": "stdout",
          "text": [
            "Epoch 1/50\n",
            "1/1 [==============================] - 6s 6s/step - loss: 1.6222 - accuracy: 0.2188 - val_loss: 1.5872 - val_accuracy: 0.2400\n",
            "Epoch 2/50\n",
            "1/1 [==============================] - 4s 4s/step - loss: 1.6057 - accuracy: 0.1900 - val_loss: 1.5752 - val_accuracy: 0.4050\n",
            "Epoch 3/50\n",
            "1/1 [==============================] - 3s 3s/step - loss: 1.5796 - accuracy: 0.3938 - val_loss: 1.5577 - val_accuracy: 0.1650\n",
            "Epoch 4/50\n",
            "1/1 [==============================] - 3s 3s/step - loss: 1.5533 - accuracy: 0.2087 - val_loss: 1.5284 - val_accuracy: 0.1700\n",
            "Epoch 5/50\n",
            "1/1 [==============================] - 3s 3s/step - loss: 1.5246 - accuracy: 0.2400 - val_loss: 1.4789 - val_accuracy: 0.5550\n",
            "Epoch 6/50\n",
            "1/1 [==============================] - 5s 5s/step - loss: 1.4806 - accuracy: 0.5512 - val_loss: 1.4060 - val_accuracy: 0.6100\n",
            "Epoch 7/50\n",
            "1/1 [==============================] - 3s 3s/step - loss: 1.4139 - accuracy: 0.6125 - val_loss: 1.3342 - val_accuracy: 0.5950\n",
            "Epoch 8/50\n",
            "1/1 [==============================] - 3s 3s/step - loss: 1.3453 - accuracy: 0.6000 - val_loss: 1.2486 - val_accuracy: 0.6150\n",
            "Epoch 9/50\n",
            "1/1 [==============================] - 3s 3s/step - loss: 1.2697 - accuracy: 0.6075 - val_loss: 1.1561 - val_accuracy: 0.6450\n",
            "Epoch 10/50\n",
            "1/1 [==============================] - 5s 5s/step - loss: 1.1943 - accuracy: 0.6237 - val_loss: 1.0694 - val_accuracy: 0.6700\n",
            "Epoch 11/50\n",
            "1/1 [==============================] - 4s 4s/step - loss: 1.1261 - accuracy: 0.6575 - val_loss: 0.9933 - val_accuracy: 0.7050\n",
            "Epoch 12/50\n",
            "1/1 [==============================] - 3s 3s/step - loss: 1.0708 - accuracy: 0.6888 - val_loss: 0.9461 - val_accuracy: 0.7400\n",
            "Epoch 13/50\n",
            "1/1 [==============================] - 3s 3s/step - loss: 1.0373 - accuracy: 0.7138 - val_loss: 0.9050 - val_accuracy: 0.6600\n",
            "Epoch 14/50\n",
            "1/1 [==============================] - 4s 4s/step - loss: 1.0181 - accuracy: 0.6600 - val_loss: 0.8605 - val_accuracy: 0.7650\n",
            "Epoch 15/50\n",
            "1/1 [==============================] - 4s 4s/step - loss: 0.9742 - accuracy: 0.7300 - val_loss: 0.8329 - val_accuracy: 0.7400\n",
            "Epoch 16/50\n",
            "1/1 [==============================] - 3s 3s/step - loss: 0.9539 - accuracy: 0.7362 - val_loss: 0.8114 - val_accuracy: 0.7000\n",
            "Epoch 17/50\n",
            "1/1 [==============================] - 3s 3s/step - loss: 0.9374 - accuracy: 0.6837 - val_loss: 0.7820 - val_accuracy: 0.7500\n",
            "Epoch 18/50\n",
            "1/1 [==============================] - 4s 4s/step - loss: 0.8958 - accuracy: 0.7375 - val_loss: 0.7653 - val_accuracy: 0.7700\n",
            "Epoch 19/50\n",
            "1/1 [==============================] - 5s 5s/step - loss: 0.8791 - accuracy: 0.7525 - val_loss: 0.7401 - val_accuracy: 0.7500\n",
            "Epoch 20/50\n",
            "1/1 [==============================] - 3s 3s/step - loss: 0.8577 - accuracy: 0.7225 - val_loss: 0.7276 - val_accuracy: 0.7450\n",
            "Epoch 21/50\n",
            "1/1 [==============================] - 3s 3s/step - loss: 0.8346 - accuracy: 0.7212 - val_loss: 0.7291 - val_accuracy: 0.7750\n",
            "Epoch 22/50\n",
            "1/1 [==============================] - 3s 3s/step - loss: 0.8290 - accuracy: 0.7650 - val_loss: 0.7040 - val_accuracy: 0.7850\n",
            "Epoch 23/50\n",
            "1/1 [==============================] - 5s 5s/step - loss: 0.8050 - accuracy: 0.7638 - val_loss: 0.7030 - val_accuracy: 0.7650\n",
            "Epoch 24/50\n",
            "1/1 [==============================] - 3s 3s/step - loss: 0.8011 - accuracy: 0.7350 - val_loss: 0.6793 - val_accuracy: 0.8000\n",
            "Epoch 25/50\n",
            "1/1 [==============================] - 3s 3s/step - loss: 0.7804 - accuracy: 0.7738 - val_loss: 0.6722 - val_accuracy: 0.7900\n",
            "Epoch 26/50\n",
            "1/1 [==============================] - 3s 3s/step - loss: 0.7748 - accuracy: 0.7812 - val_loss: 0.6535 - val_accuracy: 0.7900\n",
            "Epoch 27/50\n",
            "1/1 [==============================] - 5s 5s/step - loss: 0.7570 - accuracy: 0.7688 - val_loss: 0.6465 - val_accuracy: 0.7850\n",
            "Epoch 28/50\n",
            "1/1 [==============================] - 3s 3s/step - loss: 0.7501 - accuracy: 0.7613 - val_loss: 0.6289 - val_accuracy: 0.8050\n",
            "Epoch 29/50\n",
            "1/1 [==============================] - 3s 3s/step - loss: 0.7362 - accuracy: 0.7850 - val_loss: 0.6255 - val_accuracy: 0.8100\n",
            "Epoch 30/50\n",
            "1/1 [==============================] - 3s 3s/step - loss: 0.7271 - accuracy: 0.7850 - val_loss: 0.6159 - val_accuracy: 0.8050\n",
            "Epoch 31/50\n",
            "1/1 [==============================] - 5s 5s/step - loss: 0.7142 - accuracy: 0.7837 - val_loss: 0.6071 - val_accuracy: 0.8000\n",
            "Epoch 32/50\n",
            "1/1 [==============================] - 4s 4s/step - loss: 0.7059 - accuracy: 0.7862 - val_loss: 0.6002 - val_accuracy: 0.8050\n",
            "Epoch 33/50\n",
            "1/1 [==============================] - 3s 3s/step - loss: 0.6924 - accuracy: 0.7825 - val_loss: 0.5921 - val_accuracy: 0.8000\n",
            "Epoch 34/50\n",
            "1/1 [==============================] - 3s 3s/step - loss: 0.6830 - accuracy: 0.7925 - val_loss: 0.5858 - val_accuracy: 0.8050\n",
            "Epoch 35/50\n",
            "1/1 [==============================] - 4s 4s/step - loss: 0.6707 - accuracy: 0.7937 - val_loss: 0.5870 - val_accuracy: 0.8200\n",
            "Epoch 36/50\n",
            "1/1 [==============================] - 4s 4s/step - loss: 0.6615 - accuracy: 0.7862 - val_loss: 0.5764 - val_accuracy: 0.8150\n",
            "Epoch 37/50\n",
            "1/1 [==============================] - 3s 3s/step - loss: 0.6511 - accuracy: 0.7887 - val_loss: 0.5843 - val_accuracy: 0.7950\n",
            "Epoch 38/50\n",
            "1/1 [==============================] - 3s 3s/step - loss: 0.6452 - accuracy: 0.7875 - val_loss: 0.5732 - val_accuracy: 0.8000\n",
            "Epoch 39/50\n",
            "1/1 [==============================] - 3s 3s/step - loss: 0.6473 - accuracy: 0.7763 - val_loss: 0.6337 - val_accuracy: 0.7700\n",
            "Epoch 40/50\n",
            "1/1 [==============================] - 5s 5s/step - loss: 0.6624 - accuracy: 0.7525 - val_loss: 0.5709 - val_accuracy: 0.8050\n",
            "Epoch 41/50\n",
            "1/1 [==============================] - 3s 3s/step - loss: 0.6307 - accuracy: 0.7875 - val_loss: 0.5611 - val_accuracy: 0.8250\n",
            "Epoch 42/50\n",
            "1/1 [==============================] - 3s 3s/step - loss: 0.6093 - accuracy: 0.7950 - val_loss: 0.5975 - val_accuracy: 0.7950\n",
            "Epoch 43/50\n",
            "1/1 [==============================] - 3s 3s/step - loss: 0.6217 - accuracy: 0.7675 - val_loss: 0.5635 - val_accuracy: 0.8350\n",
            "Epoch 44/50\n",
            "1/1 [==============================] - 5s 5s/step - loss: 0.5951 - accuracy: 0.7962 - val_loss: 0.5607 - val_accuracy: 0.8200\n",
            "Epoch 45/50\n",
            "1/1 [==============================] - 3s 3s/step - loss: 0.5906 - accuracy: 0.7962 - val_loss: 0.5915 - val_accuracy: 0.8050\n",
            "Epoch 46/50\n",
            "1/1 [==============================] - 3s 3s/step - loss: 0.5955 - accuracy: 0.7875 - val_loss: 0.5539 - val_accuracy: 0.8350\n",
            "Epoch 47/50\n",
            "1/1 [==============================] - 3s 3s/step - loss: 0.5693 - accuracy: 0.8050 - val_loss: 0.5603 - val_accuracy: 0.8300\n",
            "Epoch 48/50\n",
            "1/1 [==============================] - 5s 5s/step - loss: 0.5720 - accuracy: 0.8025 - val_loss: 0.5839 - val_accuracy: 0.8200\n",
            "Epoch 49/50\n",
            "1/1 [==============================] - 3s 3s/step - loss: 0.5701 - accuracy: 0.7950 - val_loss: 0.5516 - val_accuracy: 0.8400\n",
            "Epoch 50/50\n",
            "1/1 [==============================] - 3s 3s/step - loss: 0.5473 - accuracy: 0.8087 - val_loss: 0.5529 - val_accuracy: 0.8350\n"
          ]
        },
        {
          "output_type": "display_data",
          "data": {
            "text/plain": [
              "<Figure size 640x480 with 1 Axes>"
            ],
            "image/png": "[encoded data removed]"
          },
          "metadata": {}
        }
      ]
    },
    {
      "cell_type": "code",
      "source": [
        "cnn_model.evaluate(x_test,y_test)"
      ],
      "metadata": {
        "colab": {
          "base_uri": "https://localhost:8080/"
        },
        "id": "NJ0GISQREbPn",
        "outputId": "0834c227-2e9b-4a9f-b4d6-e38557ca93cb"
      },
      "execution_count": 131,
      "outputs": [
        {
          "output_type": "stream",
          "name": "stdout",
          "text": [
            "7/7 [==============================] - 0s 30ms/step - loss: 0.5529 - accuracy: 0.8350\n"
          ]
        },
        {
          "output_type": "execute_result",
          "data": {
            "text/plain": [
              "[0.5528629422187805, 0.8349999785423279]"
            ]
          },
          "metadata": {},
          "execution_count": 131
        }
      ]
    },
    {
      "cell_type": "code",
      "source": [
        "image_sample(x_test,y_test,1)\n",
        "image_sample(x_test,y_test,50)\n",
        "image_sample(x_test,y_test,25)\n",
        "image_sample(x_test,y_test,30)"
      ],
      "metadata": {
        "colab": {
          "base_uri": "https://localhost:8080/",
          "height": 1000
        },
        "id": "0T_zkCANEdvn",
        "outputId": "1bd370de-154d-470c-b32a-873f1fe60145"
      },
      "execution_count": 132,
      "outputs": [
        {
          "output_type": "display_data",
          "data": {
            "text/plain": [
              "<Figure size 1200x400 with 1 Axes>"
            ],
            "image/png": "[encoded data removed]"
          },
          "metadata": {}
        },
        {
          "output_type": "display_data",
          "data": {
            "text/plain": [
              "<Figure size 1200x400 with 1 Axes>"
            ],
            "image/png": "[encoded data removed]"
          },
          "metadata": {}
        },
        {
          "output_type": "display_data",
          "data": {
            "text/plain": [
              "<Figure size 1200x400 with 1 Axes>"
            ],
            "image/png": "[encoded data removed]"
          },
          "metadata": {}
        },
        {
          "output_type": "display_data",
          "data": {
            "text/plain": [
              "<Figure size 1200x400 with 1 Axes>"
            ],
            "image/png": "[encoded data removed]"
          },
          "metadata": {}
        }
      ]
    },
    {
      "cell_type": "code",
      "source": [
        "y_pred = cnn_model.predict(x_test)\n",
        "y_pred[:5]"
      ],
      "metadata": {
        "colab": {
          "base_uri": "https://localhost:8080/"
        },
        "id": "jNGe3KdIEjOo",
        "outputId": "5bb1a24d-307a-42c4-d909-a31ac79fa6d3"
      },
      "execution_count": 134,
      "outputs": [
        {
          "output_type": "stream",
          "name": "stdout",
          "text": [
            "7/7 [==============================] - 0s 28ms/step\n"
          ]
        },
        {
          "output_type": "execute_result",
          "data": {
            "text/plain": [
              "array([[5.7013416e-01, 2.7091792e-01, 5.9270367e-02, 7.8505445e-03,\n",
              "        9.1827102e-02],\n",
              "       [1.5433256e-02, 3.5527077e-02, 1.2758028e-03, 1.6999196e-05,\n",
              "        9.4774681e-01],\n",
              "       [1.5859516e-01, 3.7579149e-01, 3.0321516e-03, 9.0513949e-04,\n",
              "        4.6167600e-01],\n",
              "       [7.9544529e-02, 8.3637573e-02, 1.9400463e-02, 4.2427241e-04,\n",
              "        8.1699312e-01],\n",
              "       [4.7326970e-01, 7.8930043e-02, 2.4581839e-01, 9.4972132e-03,\n",
              "        1.9248462e-01]], dtype=float32)"
            ]
          },
          "metadata": {},
          "execution_count": 134
        }
      ]
    },
    {
      "cell_type": "code",
      "source": [
        "\n",
        "y_classes = [np.argmax(element) for element in y_pred]\n",
        "y_classes[:5]"
      ],
      "metadata": {
        "colab": {
          "base_uri": "https://localhost:8080/"
        },
        "id": "0c6uZKFrElco",
        "outputId": "228676c5-bb83-4e8e-e711-42e4b30c8ae3"
      },
      "execution_count": 135,
      "outputs": [
        {
          "output_type": "execute_result",
          "data": {
            "text/plain": [
              "[0, 4, 4, 4, 0]"
            ]
          },
          "metadata": {},
          "execution_count": 135
        }
      ]
    },
    {
      "cell_type": "code",
      "source": [
        "y_test[:5]\n"
      ],
      "metadata": {
        "colab": {
          "base_uri": "https://localhost:8080/"
        },
        "id": "ikfgBFAsEm8p",
        "outputId": "bbf2a6a8-c2e1-4c36-bdf3-f9c825ec6bd4"
      },
      "execution_count": 136,
      "outputs": [
        {
          "output_type": "execute_result",
          "data": {
            "text/plain": [
              "array([0, 4, 4, 4, 0])"
            ]
          },
          "metadata": {},
          "execution_count": 136
        }
      ]
    },
    {
      "cell_type": "code",
      "source": [
        "# here we see some values are not matching"
      ],
      "metadata": {
        "id": "g_aqwUO2Eowi"
      },
      "execution_count": 137,
      "outputs": []
    },
    {
      "cell_type": "code",
      "source": [
        "# test actual and predicted\n",
        "# image_sample(x_test,y_test,1) #actual\n",
        "# image_classes[y_classes[1]] #predicted\n",
        "# image_sample(x_test,y_test,10) #actual\n",
        "# image_classes[y_classes[10]] #predicted\n",
        "image_sample(x_test,y_test,15) #actual\n",
        "image_classes[y_classes[15]] #predicted"
      ],
      "metadata": {
        "colab": {
          "base_uri": "https://localhost:8080/",
          "height": 409
        },
        "id": "Vq29hoaQEqag",
        "outputId": "f2ad4254-13ac-4829-bfef-e8fb2b5aae20"
      },
      "execution_count": 138,
      "outputs": [
        {
          "output_type": "execute_result",
          "data": {
            "text/plain": [
              "'dot_line'"
            ],
            "application/vnd.google.colaboratory.intrinsic+json": {
              "type": "string"
            }
          },
          "metadata": {},
          "execution_count": 138
        },
        {
          "output_type": "display_data",
          "data": {
            "text/plain": [
              "<Figure size 1200x400 with 1 Axes>"
            ],
            "image/png": "[encoded data removed]"
          },
          "metadata": {}
        }
      ]
    },
    {
      "cell_type": "code",
      "source": [
        "\n",
        "# some values are not matching"
      ],
      "metadata": {
        "id": "xSJK51twEsi5"
      },
      "execution_count": 139,
      "outputs": []
    },
    {
      "cell_type": "code",
      "source": [
        "\n",
        "print(\"classification report: \\n\", classification_report(y_test,y_classes))\n"
      ],
      "metadata": {
        "colab": {
          "base_uri": "https://localhost:8080/"
        },
        "id": "lb1L_xi3EuTA",
        "outputId": "61be5f3b-7662-4c0e-d3d2-c5b41f98b2d2"
      },
      "execution_count": 140,
      "outputs": [
        {
          "output_type": "stream",
          "name": "stdout",
          "text": [
            "classification report: \n",
            "               precision    recall  f1-score   support\n",
            "\n",
            "           0       0.73      0.73      0.73        37\n",
            "           1       0.71      0.73      0.72        44\n",
            "           2       0.96      0.98      0.97        48\n",
            "           3       1.00      0.94      0.97        33\n",
            "           4       0.79      0.79      0.79        38\n",
            "\n",
            "    accuracy                           0.83       200\n",
            "   macro avg       0.84      0.83      0.84       200\n",
            "weighted avg       0.84      0.83      0.84       200\n",
            "\n"
          ]
        }
      ]
    },
    {
      "cell_type": "code",
      "source": [
        "# Generate the confusion matrix\n",
        "conf_matrix = confusion_matrix(y_test, y_classes)\n",
        "print('Confusion Matrix:')\n",
        "print(conf_matrix)"
      ],
      "metadata": {
        "colab": {
          "base_uri": "https://localhost:8080/"
        },
        "id": "IQHt09WqEwqo",
        "outputId": "9d5cd1cc-07aa-4816-8761-00291d3e5c1b"
      },
      "execution_count": 141,
      "outputs": [
        {
          "output_type": "stream",
          "name": "stdout",
          "text": [
            "Confusion Matrix:\n",
            "[[27  6  1  0  3]\n",
            " [ 7 32  0  0  5]\n",
            " [ 1  0 47  0  0]\n",
            " [ 0  1  1 31  0]\n",
            " [ 2  6  0  0 30]]\n"
          ]
        }
      ]
    },
    {
      "cell_type": "code",
      "source": [
        "# Plot the confusion matrix\n",
        "import seaborn as sn\n",
        "plt.figure(figsize = (10,10))\n",
        "sn.heatmap(conf_matrix,annot=True,fmt='d')\n",
        "plt.xlabel('Predicted')\n",
        "plt.ylabel('Actual')\n"
      ],
      "metadata": {
        "colab": {
          "base_uri": "https://localhost:8080/",
          "height": 867
        },
        "id": "vpKJUky8Eysa",
        "outputId": "2c32ce98-0502-4d3b-c2a1-7b6c039d27bb"
      },
      "execution_count": 142,
      "outputs": [
        {
          "output_type": "execute_result",
          "data": {
            "text/plain": [
              "Text(95.72222222222221, 0.5, 'Actual')"
            ]
          },
          "metadata": {},
          "execution_count": 142
        },
        {
          "output_type": "display_data",
          "data": {
            "text/plain": [
              "<Figure size 1000x1000 with 2 Axes>"
            ],
            "image/png": "[encoded data removed]"
          },
          "metadata": {}
        }
      ]
    },
    {
      "cell_type": "code",
      "source": [
        "# for 50 iterations, we can see some promising accuracy, more training will be required for better accuracy\n",
        "# in the confusion matrix, whatever is not in diagonal is a error"
      ],
      "metadata": {
        "id": "sbv0_IOZE1q5"
      },
      "execution_count": 143,
      "outputs": []
    },
    {
      "cell_type": "code",
      "source": [
        "from tensorflow.keras.applications import VGG16\n",
        "from tensorflow.keras.preprocessing.image import ImageDataGenerator\n",
        "# Load the pre-trained output\n",
        "vgg16_output = VGG16(weights='imagenet', include_top=False, input_shape=(224, 224, 3))"
      ],
      "metadata": {
        "colab": {
          "base_uri": "https://localhost:8080/"
        },
        "id": "T-y61MXPE34z",
        "outputId": "b3faa21e-9bc0-40b7-e274-7f1f10e3e4f4"
      },
      "execution_count": 144,
      "outputs": [
        {
          "output_type": "stream",
          "name": "stdout",
          "text": [
            "Downloading data from https://storage.googleapis.com/tensorflow/keras-applications/vgg16/vgg16_weights_tf_dim_ordering_tf_kernels_notop.h5\n",
            "58889256/58889256 [==============================] - 0s 0us/step\n"
          ]
        }
      ]
    },
    {
      "cell_type": "code",
      "source": [
        "# Replace the final classification layer with a new layer\n",
        "x = vgg16_output.output\n",
        "x = GlobalAveragePooling2D()(x)\n",
        "x = Dense(128, activation='relu')(x)\n",
        "prediction = Dense(5, activation='softmax')(x)\n",
        "pt_output = tf.keras.Model(inputs=vgg16_output.input, outputs=prediction)"
      ],
      "metadata": {
        "id": "MHnhhGtaE54C"
      },
      "execution_count": 147,
      "outputs": []
    },
    {
      "cell_type": "code",
      "source": [
        "# Freeze the weights of all layers except the new classification layer\n",
        "for layer in pt_output.layers:\n",
        " layer.trainable = False\n"
      ],
      "metadata": {
        "id": "_yBnaiwfE7jZ"
      },
      "execution_count": 148,
      "outputs": []
    },
    {
      "cell_type": "code",
      "source": [
        "# Compile the output with categorical crossentropy loss and Adam optimizer\n",
        "pt_output.compile(loss='categorical_crossentropy', optimizer='adam', metrics=['accuracy'])"
      ],
      "metadata": {
        "id": "kV9QWZkfE9IU"
      },
      "execution_count": 149,
      "outputs": []
    },
    {
      "cell_type": "code",
      "source": [
        "# Print the summary of the output architecture\n",
        "pt_output.summary()"
      ],
      "metadata": {
        "colab": {
          "base_uri": "https://localhost:8080/"
        },
        "id": "BNoSrRuwE_IZ",
        "outputId": "9cac6195-8e68-447e-a723-5f150c610c69"
      },
      "execution_count": 150,
      "outputs": [
        {
          "output_type": "stream",
          "name": "stdout",
          "text": [
            "Model: \"model\"\n",
            "_________________________________________________________________\n",
            " Layer (type)                Output Shape              Param #   \n",
            "=================================================================\n",
            " input_1 (InputLayer)        [(None, 224, 224, 3)]     0         \n",
            "                                                                 \n",
            " block1_conv1 (Conv2D)       (None, 224, 224, 64)      1792      \n",
            "                                                                 \n",
            " block1_conv2 (Conv2D)       (None, 224, 224, 64)      36928     \n",
            "                                                                 \n",
            " block1_pool (MaxPooling2D)  (None, 112, 112, 64)      0         \n",
            "                                                                 \n",
            " block2_conv1 (Conv2D)       (None, 112, 112, 128)     73856     \n",
            "                                                                 \n",
            " block2_conv2 (Conv2D)       (None, 112, 112, 128)     147584    \n",
            "                                                                 \n",
            " block2_pool (MaxPooling2D)  (None, 56, 56, 128)       0         \n",
            "                                                                 \n",
            " block3_conv1 (Conv2D)       (None, 56, 56, 256)       295168    \n",
            "                                                                 \n",
            " block3_conv2 (Conv2D)       (None, 56, 56, 256)       590080    \n",
            "                                                                 \n",
            " block3_conv3 (Conv2D)       (None, 56, 56, 256)       590080    \n",
            "                                                                 \n",
            " block3_pool (MaxPooling2D)  (None, 28, 28, 256)       0         \n",
            "                                                                 \n",
            " block4_conv1 (Conv2D)       (None, 28, 28, 512)       1180160   \n",
            "                                                                 \n",
            " block4_conv2 (Conv2D)       (None, 28, 28, 512)       2359808   \n",
            "                                                                 \n",
            " block4_conv3 (Conv2D)       (None, 28, 28, 512)       2359808   \n",
            "                                                                 \n",
            " block4_pool (MaxPooling2D)  (None, 14, 14, 512)       0         \n",
            "                                                                 \n",
            " block5_conv1 (Conv2D)       (None, 14, 14, 512)       2359808   \n",
            "                                                                 \n",
            " block5_conv2 (Conv2D)       (None, 14, 14, 512)       2359808   \n",
            "                                                                 \n",
            " block5_conv3 (Conv2D)       (None, 14, 14, 512)       2359808   \n",
            "                                                                 \n",
            " block5_pool (MaxPooling2D)  (None, 7, 7, 512)         0         \n",
            "                                                                 \n",
            " global_average_pooling2d_2   (None, 512)              0         \n",
            " (GlobalAveragePooling2D)                                        \n",
            "                                                                 \n",
            " dense_27 (Dense)            (None, 128)               65664     \n",
            "                                                                 \n",
            " dense_28 (Dense)            (None, 5)                 645       \n",
            "                                                                 \n",
            "=================================================================\n",
            "Total params: 14,780,997\n",
            "Trainable params: 0\n",
            "Non-trainable params: 14,780,997\n",
            "_________________________________________________________________\n"
          ]
        }
      ]
    },
    {
      "cell_type": "code",
      "source": [
        "# Set up data generators for image augmentation and feeding data to the output\n",
        "train_datagenerator = ImageDataGenerator(\n",
        " rescale=1./255,\n",
        " rotation_range=20,\n",
        " width_shift_range=0.2,\n",
        " height_shift_range=0.2,\n",
        " shear_range=0.2,\n",
        " zoom_range=0.2,\n",
        " horizontal_flip=True,\n",
        " fill_mode='nearest')\n",
        "test_datagenerator = ImageDataGenerator(rescale=1./255)"
      ],
      "metadata": {
        "id": "mI0H-YjPFBpx"
      },
      "execution_count": 151,
      "outputs": []
    },
    {
      "cell_type": "code",
      "source": [
        "\n",
        "# flow method generates batches of augmented data\n",
        "train_generator = train_datagenerator.flow(x_train, y_train, batch_size=32)\n",
        "test_generator = train_datagenerator.flow(x_test, y_test, batch_size=32)"
      ],
      "metadata": {
        "id": "XHtB4-RJFD2p"
      },
      "execution_count": 152,
      "outputs": []
    },
    {
      "cell_type": "code",
      "source": [
        "# Train the output with early stopping\n",
        "\n",
        "from tensorflow.keras.layers import Dense\n",
        "output_layer = Dense(5, activation='softmax')\n",
        "from tensorflow.keras.callbacks import EarlyStopping\n",
        "\n"
      ],
      "metadata": {
        "id": "85OOuMjqFF48"
      },
      "execution_count": 156,
      "outputs": []
    }
  ]
}